{
 "cells": [
  {
   "cell_type": "code",
   "execution_count": 4,
   "id": "57c93dc5-b0a4-4ac4-a2ea-920cd0d9fac0",
   "metadata": {},
   "outputs": [
    {
     "name": "stdin",
     "output_type": "stream",
     "text": [
      " 5\n",
      " 1 2\n",
      " 1 1\n",
      " 2\n",
      " 1 3\n",
      " 2\n"
     ]
    },
    {
     "name": "stdout",
     "output_type": "stream",
     "text": [
      "2,1\n"
     ]
    }
   ],
   "source": [
    "from collections import deque\n",
    "\n",
    "d = deque()\n",
    "n = int(input())\n",
    "max = deque()\n",
    "li = []\n",
    "\n",
    "for i in range(n):\n",
    "    b = list(map(int,input().split()))\n",
    "    if b[0] == 1:\n",
    "        d.append(b[1])\n",
    "        if len(max) < len(d):\n",
    "            if len(max) == 0:\n",
    "                for j in range(len(d)):\n",
    "                    max.append(d[j])\n",
    "            else:\n",
    "                max.clear()\n",
    "                for l in range(len(d)):\n",
    "                    max.append(d[l])\n",
    "        elif len(max) == len(d):\n",
    "            if max[-1] > d[-1]:\n",
    "                max.clear()\n",
    "                for k in range(d):\n",
    "                    max.append(d[k])\n",
    "    else:\n",
    "        d.popleft()\n",
    "\n",
    "for z in range(len(max)):\n",
    "    li.append(max[z])\n",
    "\n",
    "print(*li, sep=\",\")\n",
    "    "
   ]
  },
  {
   "cell_type": "code",
   "execution_count": 4,
   "id": "3bf83966-fd8b-450f-b885-ded8f77133ae",
   "metadata": {},
   "outputs": [
    {
     "name": "stdout",
     "output_type": "stream",
     "text": [
      "deque([])\n"
     ]
    }
   ],
   "source": [
    "e = deque([1])\n",
    "\n",
    "e.popleft()\n",
    "print(e)"
   ]
  }
 ],
 "metadata": {
  "kernelspec": {
   "display_name": "Python 3 (ipykernel)",
   "language": "python",
   "name": "python3"
  },
  "language_info": {
   "codemirror_mode": {
    "name": "ipython",
    "version": 3
   },
   "file_extension": ".py",
   "mimetype": "text/x-python",
   "name": "python",
   "nbconvert_exporter": "python",
   "pygments_lexer": "ipython3",
   "version": "3.11.7"
  }
 },
 "nbformat": 4,
 "nbformat_minor": 5
}
